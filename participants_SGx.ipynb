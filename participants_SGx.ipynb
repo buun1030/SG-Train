{
  "nbformat": 4,
  "nbformat_minor": 0,
  "metadata": {
    "colab": {
      "name": "participants_SGx.ipynb",
      "provenance": [],
      "collapsed_sections": [],
      "authorship_tag": "ABX9TyPCpJYX+ZPLzIxKYRjhXWEr",
      "include_colab_link": true
    },
    "kernelspec": {
      "name": "python3",
      "display_name": "Python 3"
    },
    "language_info": {
      "name": "python"
    }
  },
  "cells": [
    {
      "cell_type": "markdown",
      "metadata": {
        "id": "view-in-github",
        "colab_type": "text"
      },
      "source": [
        "<a href=\"https://colab.research.google.com/github/buun1030/SG-Train/blob/main/participants_SGx.ipynb\" target=\"_parent\"><img src=\"https://colab.research.google.com/assets/colab-badge.svg\" alt=\"Open In Colab\"/></a>"
      ]
    },
    {
      "cell_type": "code",
      "metadata": {
        "id": "5GavaFS46a4K"
      },
      "source": [
        "# เชื่อมต่อ Google colab กับ Google Drive\n",
        "from google.colab import drive\n",
        "drive.mount('/content/drive')"
      ],
      "execution_count": null,
      "outputs": []
    },
    {
      "cell_type": "code",
      "metadata": {
        "id": "wDOmotfS6rmi"
      },
      "source": [
        "!pip install pandasql\n",
        "import pandas as pd\n",
        "import pandasql as ps\n",
        "import numpy as np\n",
        "import re\n",
        "from google.colab import files"
      ],
      "execution_count": null,
      "outputs": []
    },
    {
      "cell_type": "code",
      "metadata": {
        "id": "GymwClmmWBV7"
      },
      "source": [
        "AB = pd.read_csv('/content/drive/MyDrive/agency_list.csv')\n",
        "a = AB['A'].astype(str).values.tolist()\n",
        "b = AB['B'].astype(str).values.tolist()\n",
        "c = ['sgteam','sg team','พรรณราย','อรรณพ','โสภณ','อรณี','บรมัตถ์','พัชรินทร์ เยาวรัตน์','สันต์',\\\n",
        "     'annop unn','oranee','boramat','phatcharin yaowarat','sunt','prapita','icbrg',\\\n",
        "     'sgtech','นิพนธ์ เกตุจ้อย','ยอดธง เม่นสิน','วสันต์ ติรางกูร',\\\n",
        "     'nipon','yodthong','vazzan','tawat','wisut','malinee kaewpanha','meeting','admin',\\\n",
        "     'puckpimon singhapong','lu zhao','zibo dong','puckpimon']"
      ],
      "execution_count": null,
      "outputs": []
    },
    {
      "cell_type": "code",
      "metadata": {
        "id": "WIX8_v4CUJ8W"
      },
      "source": [
        "file_name = 'participants-SG7'"
      ],
      "execution_count": null,
      "outputs": []
    },
    {
      "cell_type": "code",
      "metadata": {
        "id": "MvG-9V8D6rgD"
      },
      "source": [
        "df = pd.read_csv('/content/drive/MyDrive/' + file_name + '.csv')"
      ],
      "execution_count": null,
      "outputs": []
    },
    {
      "cell_type": "code",
      "metadata": {
        "id": "AaCduqMD6opZ"
      },
      "source": [
        "df.info()"
      ],
      "execution_count": null,
      "outputs": []
    },
    {
      "cell_type": "code",
      "metadata": {
        "id": "E-EA262NZibK"
      },
      "source": [
        "# use this when number of columns is over\n",
        "# df.drop(df.columns[[7, 8, 9, 10, 11, 12, 13]], axis = 1, inplace = True)"
      ],
      "execution_count": null,
      "outputs": []
    },
    {
      "cell_type": "code",
      "metadata": {
        "id": "OfGx5o7BQm-0"
      },
      "source": [
        "# create agency column with correspond agency in each row\n",
        "df['Agency'] = ''\n",
        "row = 0\n",
        "for x in df['Name (Original Name)']:\n",
        "  for i in range(len(a)):\n",
        "    if a[i].upper() in x.upper():\n",
        "      df['Agency'][row] = b[i].upper()\n",
        "  row += 1\n",
        "\n",
        "# fill empty cells with 'Other'\n",
        "df['Agency'][df['Agency'] == ''] = 'Other'"
      ],
      "execution_count": null,
      "outputs": []
    },
    {
      "cell_type": "code",
      "metadata": {
        "id": "SD8vy7YekrFo"
      },
      "source": [
        "# select needed columns \n",
        "df_forCount = df[['Name (Original Name)','Duration (Minutes)','Agency']]\n",
        "print('Original')\n",
        "print(df_forCount.count())\n",
        "print()\n",
        "\n",
        "# filter rows that duration > 50 minutes\n",
        "duration = 50\n",
        "df_forCount = df_forCount[df['Duration (Minutes)'] > duration]\n",
        "print('After filter rows that duration > ' + str(duration) + ' minutes')\n",
        "print(df_forCount.count())\n",
        "print()\n",
        "df_forCount = df_forCount.reset_index().drop(labels='index', axis=1)\n",
        "\n",
        "d = []\n",
        "row = 0\n",
        "for x in df_forCount['Name (Original Name)']:\n",
        "  for d_name in c:\n",
        "    if d_name.upper() in x.upper():\n",
        "      d.append(row)\n",
        "  row += 1\n",
        "d = list(dict.fromkeys(d))\n",
        "\n",
        "# drop rows with d index\n",
        "df_forCount = df_forCount.drop(labels=d, axis=0)\n",
        "print('After drop rows with staff name')\n",
        "print(df_forCount.count())\n",
        "print()\n",
        "\n",
        "# drop duplicate rows\n",
        "df_forCount = df_forCount.drop_duplicates(subset = ['Name (Original Name)'])\n",
        "print('After drop duplicate rows')\n",
        "print(df_forCount.count())"
      ],
      "execution_count": null,
      "outputs": []
    },
    {
      "cell_type": "code",
      "metadata": {
        "id": "X5oKoKLDbmBi"
      },
      "source": [
        "# check Agency list\n",
        "df_forCount['Agency'].sort_values().unique()"
      ],
      "execution_count": null,
      "outputs": []
    },
    {
      "cell_type": "code",
      "metadata": {
        "id": "Ea2RqG5BNsUO"
      },
      "source": [
        "# display all rows\n",
        "pd.set_option('display.max_rows', None)\n",
        "# display full (non-truncated) dataframe information\n",
        "pd.set_option('display.max_colwidth', None)"
      ],
      "execution_count": null,
      "outputs": []
    },
    {
      "cell_type": "code",
      "metadata": {
        "id": "l23EXo3bXGHx"
      },
      "source": [
        "# manually correct wrong Agency\n",
        "df_forCount['Agency'][df_forCount['Name (Original Name)']=='Kmutnb Palika Rattanaburee']='KMUTNB'"
      ],
      "execution_count": null,
      "outputs": []
    },
    {
      "cell_type": "code",
      "metadata": {
        "id": "CN98iVdBaNaS"
      },
      "source": [
        "# manually delete duplicate Name\n",
        "df_forCount = df_forCount.drop(df_forCount[df_forCount['Name (Original Name)'] == 'Poch'].index)"
      ],
      "execution_count": null,
      "outputs": []
    },
    {
      "cell_type": "code",
      "metadata": {
        "id": "eH4rfg0Lm63l"
      },
      "source": [
        "# manually check duplicate Name\n",
        "ps.sqldf('SELECT * FROM df_forCount ORDER BY [Agency], [Name (Original Name)]')"
      ],
      "execution_count": null,
      "outputs": []
    },
    {
      "cell_type": "code",
      "metadata": {
        "id": "33044AaIhaab"
      },
      "source": [
        "# pivot\n",
        "df_pivot = pd.pivot_table(df_forCount, values='Name (Original Name)', index=['Agency'], aggfunc='count', margins = True, fill_value=0)\n",
        "df_pivot"
      ],
      "execution_count": null,
      "outputs": []
    },
    {
      "cell_type": "code",
      "metadata": {
        "colab": {
          "base_uri": "https://localhost:8080/",
          "height": 17
        },
        "id": "VKN0bQ06pONQ",
        "outputId": "e338599d-b938-428a-f261-42f80c33ab1f"
      },
      "source": [
        "# save & download to excel\n",
        "writer = pd.ExcelWriter(file_name + '_final.xlsx')\n",
        "\n",
        "df.to_excel(writer, sheet_name = 'par', index = False)\n",
        "df_forCount.to_excel(writer, sheet_name = 'par_forCount', index = False)\n",
        "df_pivot.to_excel(writer, sheet_name = 'pivot', index = True)\n",
        "\n",
        "writer.save()\n",
        "files.download(file_name + '_final.xlsx')\n",
        "# All done here!"
      ],
      "execution_count": null,
      "outputs": [
        {
          "output_type": "display_data",
          "data": {
            "application/javascript": [
              "\n",
              "    async function download(id, filename, size) {\n",
              "      if (!google.colab.kernel.accessAllowed) {\n",
              "        return;\n",
              "      }\n",
              "      const div = document.createElement('div');\n",
              "      const label = document.createElement('label');\n",
              "      label.textContent = `Downloading \"${filename}\": `;\n",
              "      div.appendChild(label);\n",
              "      const progress = document.createElement('progress');\n",
              "      progress.max = size;\n",
              "      div.appendChild(progress);\n",
              "      document.body.appendChild(div);\n",
              "\n",
              "      const buffers = [];\n",
              "      let downloaded = 0;\n",
              "\n",
              "      const channel = await google.colab.kernel.comms.open(id);\n",
              "      // Send a message to notify the kernel that we're ready.\n",
              "      channel.send({})\n",
              "\n",
              "      for await (const message of channel.messages) {\n",
              "        // Send a message to notify the kernel that we're ready.\n",
              "        channel.send({})\n",
              "        if (message.buffers) {\n",
              "          for (const buffer of message.buffers) {\n",
              "            buffers.push(buffer);\n",
              "            downloaded += buffer.byteLength;\n",
              "            progress.value = downloaded;\n",
              "          }\n",
              "        }\n",
              "      }\n",
              "      const blob = new Blob(buffers, {type: 'application/binary'});\n",
              "      const a = document.createElement('a');\n",
              "      a.href = window.URL.createObjectURL(blob);\n",
              "      a.download = filename;\n",
              "      div.appendChild(a);\n",
              "      a.click();\n",
              "      div.remove();\n",
              "    }\n",
              "  "
            ],
            "text/plain": [
              "<IPython.core.display.Javascript object>"
            ]
          },
          "metadata": {}
        },
        {
          "output_type": "display_data",
          "data": {
            "application/javascript": [
              "download(\"download_f5d77c3c-9899-426b-af72-dbcc4b234ef8\", \"participants-SG7_final.xlsx\", 59440)"
            ],
            "text/plain": [
              "<IPython.core.display.Javascript object>"
            ]
          },
          "metadata": {}
        }
      ]
    }
  ]
}