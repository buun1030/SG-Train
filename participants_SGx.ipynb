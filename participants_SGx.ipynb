{
  "nbformat": 4,
  "nbformat_minor": 0,
  "metadata": {
    "colab": {
      "name": "participants_SGx.ipynb",
      "provenance": [],
      "collapsed_sections": [],
      "authorship_tag": "ABX9TyMVm6LHdi87wJDDibcs5Epn",
      "include_colab_link": true
    },
    "kernelspec": {
      "name": "python3",
      "display_name": "Python 3"
    },
    "language_info": {
      "name": "python"
    }
  },
  "cells": [
    {
      "cell_type": "markdown",
      "metadata": {
        "id": "view-in-github",
        "colab_type": "text"
      },
      "source": [
        "<a href=\"https://colab.research.google.com/github/buun1030/SG-Train/blob/main/participants_SGx.ipynb\" target=\"_parent\"><img src=\"https://colab.research.google.com/assets/colab-badge.svg\" alt=\"Open In Colab\"/></a>"
      ]
    },
    {
      "cell_type": "code",
      "metadata": {
        "id": "5GavaFS46a4K"
      },
      "source": [
        "# เชื่อมต่อ Google colab กับ Google Drive\n",
        "from google.colab import drive\n",
        "drive.mount('/content/drive')"
      ],
      "execution_count": null,
      "outputs": []
    },
    {
      "cell_type": "code",
      "metadata": {
        "id": "wDOmotfS6rmi"
      },
      "source": [
        "!pip install pandasql\n",
        "import pandas as pd\n",
        "import pandasql as ps\n",
        "import numpy as np\n",
        "import re\n",
        "from google.colab import files"
      ],
      "execution_count": null,
      "outputs": []
    },
    {
      "cell_type": "code",
      "metadata": {
        "id": "GymwClmmWBV7"
      },
      "source": [
        "# AB = pd.read_csv('/content/drive/MyDrive/agency_list.csv')\n",
        "xls1 = pd.ExcelFile('/content/drive/MyDrive/agency_list.xlsx')\n",
        "xls2 = pd.ExcelFile('/content/drive/MyDrive/staff_list.xlsx')\n",
        "AB = pd.read_excel(xls1, 'Sheet1')\n",
        "C  = pd.read_excel(xls2, 'Sheet1')\n",
        "a = AB['A'].astype(str).values.tolist()\n",
        "b = AB['B'].astype(str).values.tolist()\n",
        "c = C['C'].astype(str).values.tolist()\n",
        "for i in range(len(c)):\n",
        "  c[i] = c[i].replace(u'\\xa0', u' ')"
      ],
      "execution_count": null,
      "outputs": []
    },
    {
      "cell_type": "code",
      "metadata": {
        "id": "WIX8_v4CUJ8W"
      },
      "source": [
        "file_name = 'participants_อบรมให้ความรู้ SG 16SEP64'"
      ],
      "execution_count": null,
      "outputs": []
    },
    {
      "cell_type": "code",
      "metadata": {
        "id": "MvG-9V8D6rgD"
      },
      "source": [
        "# df = pd.read_csv('/content/drive/MyDrive/' + file_name + '.csv')\n",
        "xls = pd.ExcelFile('/content/drive/MyDrive/' + file_name + '.xlsx')\n",
        "df = pd.read_excel(xls, 0)"
      ],
      "execution_count": null,
      "outputs": []
    },
    {
      "cell_type": "code",
      "metadata": {
        "id": "AaCduqMD6opZ"
      },
      "source": [
        "df.info()"
      ],
      "execution_count": null,
      "outputs": []
    },
    {
      "cell_type": "code",
      "metadata": {
        "id": "E-EA262NZibK"
      },
      "source": [
        "# use this when number of columns is over\n",
        "# df.drop(df.columns[[7, 8, 9, 10, 11, 12, 13]], axis = 1, inplace = True)"
      ],
      "execution_count": null,
      "outputs": []
    },
    {
      "cell_type": "code",
      "metadata": {
        "id": "OfGx5o7BQm-0"
      },
      "source": [
        "# create agency column with correspond agency in each row\n",
        "df['Agency'] = ''\n",
        "row = 0\n",
        "for x in df['Name (Original Name)']:\n",
        "  for i in range(len(a)):\n",
        "    if a[i].upper() in str(x).upper():\n",
        "      df['Agency'][row] = b[i].upper()\n",
        "  row += 1\n",
        "\n",
        "# fill empty cells with 'Other'\n",
        "df['Agency'][df['Agency'] == ''] = 'Other'"
      ],
      "execution_count": null,
      "outputs": []
    },
    {
      "cell_type": "code",
      "metadata": {
        "id": "SD8vy7YekrFo",
        "colab": {
          "base_uri": "https://localhost:8080/"
        },
        "outputId": "24ff0943-dc07-44db-89f7-7f0230fd09f7"
      },
      "source": [
        "# select needed columns \n",
        "df_forCount = df[['Name (Original Name)','Duration (Minutes)','Agency']]\n",
        "print('Original')\n",
        "print(df_forCount.count())\n",
        "print()\n",
        "\n",
        "# filter rows that duration > 47 minutes\n",
        "duration = 47\n",
        "df_forCount = df_forCount[df['Duration (Minutes)'] > duration]\n",
        "print('After filter rows that duration > ' + str(duration) + ' minutes')\n",
        "print(df_forCount.count())\n",
        "print()\n",
        "df_forCount = df_forCount.reset_index().drop(labels='index', axis=1)\n",
        "\n",
        "d = []\n",
        "row = 0\n",
        "for x in df_forCount['Name (Original Name)']:\n",
        "  for d_name in c:\n",
        "    if d_name.upper() in str(x).upper():\n",
        "      d.append(row)\n",
        "  row += 1\n",
        "d = list(dict.fromkeys(d))\n",
        "\n",
        "# drop rows with d index\n",
        "df_forCount = df_forCount.drop(labels=d, axis=0)\n",
        "print('After drop rows with staff name')\n",
        "print(df_forCount.count())\n",
        "print()\n",
        "\n",
        "# drop duplicate rows\n",
        "df_forCount = df_forCount.drop_duplicates(subset = ['Name (Original Name)'])\n",
        "print('After drop duplicate rows')\n",
        "print(df_forCount.count())"
      ],
      "execution_count": null,
      "outputs": [
        {
          "output_type": "stream",
          "name": "stdout",
          "text": [
            "Original\n",
            "Name (Original Name)    975\n",
            "Duration (Minutes)      975\n",
            "Agency                  975\n",
            "dtype: int64\n",
            "\n",
            "After filter rows that duration > 47 minutes\n",
            "Name (Original Name)    330\n",
            "Duration (Minutes)      330\n",
            "Agency                  330\n",
            "dtype: int64\n",
            "\n",
            "After drop rows with staff name\n",
            "Name (Original Name)    308\n",
            "Duration (Minutes)      308\n",
            "Agency                  308\n",
            "dtype: int64\n",
            "\n",
            "After drop duplicate rows\n",
            "Name (Original Name)    287\n",
            "Duration (Minutes)      287\n",
            "Agency                  287\n",
            "dtype: int64\n"
          ]
        }
      ]
    },
    {
      "cell_type": "code",
      "metadata": {
        "id": "X5oKoKLDbmBi"
      },
      "source": [
        "# check Agency list\n",
        "df_forCount['Agency'].sort_values().unique()"
      ],
      "execution_count": null,
      "outputs": []
    },
    {
      "cell_type": "code",
      "metadata": {
        "id": "Ea2RqG5BNsUO"
      },
      "source": [
        "# display all rows\n",
        "pd.set_option('display.max_rows', None)\n",
        "# display full (non-truncated) dataframe information\n",
        "pd.set_option('display.max_colwidth', None)"
      ],
      "execution_count": null,
      "outputs": []
    },
    {
      "cell_type": "code",
      "metadata": {
        "id": "l23EXo3bXGHx"
      },
      "source": [
        "# manually correct wrong Agency\n",
        "df_forCount['Agency'][df_forCount['Name (Original Name)']=='ES_sanont']='ES'"
      ],
      "execution_count": null,
      "outputs": []
    },
    {
      "cell_type": "code",
      "metadata": {
        "id": "CN98iVdBaNaS"
      },
      "source": [
        "# manually delete duplicate Name\n",
        "df_forCount = df_forCount.drop(df_forCount[df_forCount['Name (Original Name)'] == 'Pakorn'].index)"
      ],
      "execution_count": null,
      "outputs": []
    },
    {
      "cell_type": "code",
      "metadata": {
        "id": "eH4rfg0Lm63l"
      },
      "source": [
        "# manually check duplicate Name\n",
        "ps.sqldf('SELECT * FROM df_forCount ORDER BY [Agency], [Name (Original Name)]')"
      ],
      "execution_count": null,
      "outputs": []
    },
    {
      "cell_type": "code",
      "metadata": {
        "id": "33044AaIhaab"
      },
      "source": [
        "# pivot\n",
        "df_pivot = pd.pivot_table(df_forCount, values='Name (Original Name)', index=['Agency'], aggfunc='count', margins = True, fill_value=0)\n",
        "df_pivot"
      ],
      "execution_count": null,
      "outputs": []
    },
    {
      "cell_type": "code",
      "metadata": {
        "id": "VKN0bQ06pONQ"
      },
      "source": [
        "# save & download to excel\n",
        "writer = pd.ExcelWriter(file_name + '_final.xlsx')\n",
        "\n",
        "df.to_excel(writer, sheet_name = 'par', index = False)\n",
        "df_forCount.to_excel(writer, sheet_name = 'par_forCount', index = False)\n",
        "df_pivot.to_excel(writer, sheet_name = 'pivot', index = True)\n",
        "\n",
        "writer.save()\n",
        "files.download(file_name + '_final.xlsx')\n",
        "# All done here!"
      ],
      "execution_count": null,
      "outputs": []
    }
  ]
}